{
 "cells": [
  {
   "cell_type": "code",
   "execution_count": 1,
   "metadata": {
    "collapsed": true
   },
   "outputs": [],
   "source": [
    "import snap\n",
    "import random\n",
    "import matplotlib.pyplot as plt\n",
    "import numpy as np\n",
    "import random\n",
    "%matplotlib inline "
   ]
  },
  {
   "cell_type": "markdown",
   "metadata": {},
   "source": [
    "# Problem 1"
   ]
  },
  {
   "cell_type": "markdown",
   "metadata": {},
   "source": [
    "# Loading Graph "
   ]
  },
  {
   "cell_type": "code",
   "execution_count": 66,
   "metadata": {
    "collapsed": true
   },
   "outputs": [],
   "source": [
    "G = snap.LoadEdgeList(snap.PNGraph, 'Wiki-Vote.txt', 0, 1)"
   ]
  },
  {
   "cell_type": "markdown",
   "metadata": {},
   "source": [
    "# Number of Nodes"
   ]
  },
  {
   "cell_type": "code",
   "execution_count": 67,
   "metadata": {
    "collapsed": false
   },
   "outputs": [
    {
     "name": "stdout",
     "output_type": "stream",
     "text": [
      "Number of Nodes are :  7115\n"
     ]
    }
   ],
   "source": [
    "print \"Number of Nodes are : \",G.GetNodes()"
   ]
  },
  {
   "cell_type": "markdown",
   "metadata": {},
   "source": [
    "# Number of Edges"
   ]
  },
  {
   "cell_type": "code",
   "execution_count": 68,
   "metadata": {
    "collapsed": false
   },
   "outputs": [
    {
     "name": "stdout",
     "output_type": "stream",
     "text": [
      "Number of Edges are :  103689\n"
     ]
    }
   ],
   "source": [
    "print \"Number of Edges are : \", G.GetEdges()"
   ]
  },
  {
   "cell_type": "markdown",
   "metadata": {},
   "source": [
    "# Number of Self Edges"
   ]
  },
  {
   "cell_type": "code",
   "execution_count": 69,
   "metadata": {
    "collapsed": false
   },
   "outputs": [
    {
     "name": "stdout",
     "output_type": "stream",
     "text": [
      "Number of Self Edges are :  0\n"
     ]
    }
   ],
   "source": [
    "print \"Number of Self Edges are : \", snap.CntSelfEdges(G)"
   ]
  },
  {
   "cell_type": "markdown",
   "metadata": {},
   "source": [
    "# Number of Directed Edges"
   ]
  },
  {
   "cell_type": "code",
   "execution_count": 70,
   "metadata": {
    "collapsed": false
   },
   "outputs": [
    {
     "name": "stdout",
     "output_type": "stream",
     "text": [
      "Number of Directed Edges are :  103689\n"
     ]
    }
   ],
   "source": [
    "print \"Number of Directed Edges are : \", snap.CntUniqDirEdges(G)"
   ]
  },
  {
   "cell_type": "markdown",
   "metadata": {},
   "source": [
    "# Number of Un Directed Edges"
   ]
  },
  {
   "cell_type": "code",
   "execution_count": 71,
   "metadata": {
    "collapsed": false
   },
   "outputs": [
    {
     "name": "stdout",
     "output_type": "stream",
     "text": [
      "Number of Un Directed Edges are :  100762\n"
     ]
    }
   ],
   "source": [
    "print \"Number of Un Directed Edges are : \", snap.CntUniqUndirEdges(G)"
   ]
  },
  {
   "cell_type": "markdown",
   "metadata": {},
   "source": [
    "# Number of Nodes with Zero In Degree"
   ]
  },
  {
   "cell_type": "code",
   "execution_count": 72,
   "metadata": {
    "collapsed": false
   },
   "outputs": [
    {
     "name": "stdout",
     "output_type": "stream",
     "text": [
      "Number of Nodes with Zero In Degree are :  4734\n"
     ]
    }
   ],
   "source": [
    "n_z_id = 0\n",
    "for N in G.Nodes():\n",
    "    if N.GetInDeg() == 0:\n",
    "        n_z_id += 1\n",
    "print \"Number of Nodes with Zero In Degree are : \", n_z_id        "
   ]
  },
  {
   "cell_type": "markdown",
   "metadata": {},
   "source": [
    "# Number of Nodes with Zero Out Degree"
   ]
  },
  {
   "cell_type": "code",
   "execution_count": 73,
   "metadata": {
    "collapsed": false
   },
   "outputs": [
    {
     "name": "stdout",
     "output_type": "stream",
     "text": [
      "Number of Nodes with Zero Out Degree are :  1005\n"
     ]
    }
   ],
   "source": [
    "n_z_od = 0\n",
    "for N in G.Nodes():\n",
    "    if N.GetOutDeg() == 0:\n",
    "        n_z_od += 1\n",
    "print \"Number of Nodes with Zero Out Degree are : \", n_z_od        "
   ]
  },
  {
   "cell_type": "markdown",
   "metadata": {},
   "source": [
    "# Node id with Maximum Degree"
   ]
  },
  {
   "cell_type": "code",
   "execution_count": 74,
   "metadata": {
    "collapsed": false
   },
   "outputs": [
    {
     "name": "stdout",
     "output_type": "stream",
     "text": [
      "Node id with Maximum Degree is :  2565\n"
     ]
    }
   ],
   "source": [
    "n_d = 0\n",
    "n_id = 0\n",
    "for N in G.Nodes():\n",
    "    if (N.GetInDeg() + N.GetOutDeg()) > n_d:\n",
    "        n_d = N.GetInDeg() + N.GetOutDeg()\n",
    "        n_id = N.GetId()\n",
    "print \"Node id with Maximum Degree is : \",n_id      "
   ]
  },
  {
   "cell_type": "markdown",
   "metadata": {},
   "source": [
    "# Number of Strongly Connected Components"
   ]
  },
  {
   "cell_type": "code",
   "execution_count": 75,
   "metadata": {
    "collapsed": false
   },
   "outputs": [
    {
     "name": "stdout",
     "output_type": "stream",
     "text": [
      "Number of Strongly Connected Components are :  5816\n"
     ]
    }
   ],
   "source": [
    "Components = snap.TCnComV()\n",
    "snap.GetSccs(G, Components)\n",
    "print \"Number of Strongly Connected Components are : \",len(Components)"
   ]
  },
  {
   "cell_type": "markdown",
   "metadata": {},
   "source": [
    "# Size of Largest Strongly Connected Component"
   ]
  },
  {
   "cell_type": "code",
   "execution_count": 76,
   "metadata": {
    "collapsed": false
   },
   "outputs": [
    {
     "name": "stdout",
     "output_type": "stream",
     "text": [
      "Size of Largest Strongly Connected Component is :  1300\n"
     ]
    }
   ],
   "source": [
    "print \"Size of Largest Strongly Connected Component is : \",Components[0].Len()"
   ]
  },
  {
   "cell_type": "markdown",
   "metadata": {},
   "source": [
    "# Number of Weakly Connected Components"
   ]
  },
  {
   "cell_type": "code",
   "execution_count": 13,
   "metadata": {
    "collapsed": false
   },
   "outputs": [
    {
     "name": "stdout",
     "output_type": "stream",
     "text": [
      "Number of Weakly Connected Components are :  24\n"
     ]
    }
   ],
   "source": [
    "snap.GetWccs(G, Components)\n",
    "print \"Number of Weakly Connected Components are : \",len(Components)"
   ]
  },
  {
   "cell_type": "markdown",
   "metadata": {},
   "source": [
    "# Size of Largest Weakly Connected Component"
   ]
  },
  {
   "cell_type": "code",
   "execution_count": 14,
   "metadata": {
    "collapsed": false
   },
   "outputs": [
    {
     "name": "stdout",
     "output_type": "stream",
     "text": [
      "Size of Largest Weakly Connected Component is :  7066\n"
     ]
    }
   ],
   "source": [
    "print \"Size of Largest Weakly Connected Component is : \",Components[0].Len()"
   ]
  },
  {
   "cell_type": "markdown",
   "metadata": {},
   "source": [
    "# Out Degree Distribution Plot"
   ]
  },
  {
   "cell_type": "code",
   "execution_count": 77,
   "metadata": {
    "collapsed": true
   },
   "outputs": [],
   "source": [
    "snap.PlotOutDegDistr(G, 'Wiki-Votes', 'Wiki-Votes Out Degree')"
   ]
  },
  {
   "cell_type": "markdown",
   "metadata": {
    "collapsed": true
   },
   "source": [
    "# Problem 2"
   ]
  },
  {
   "cell_type": "markdown",
   "metadata": {},
   "source": [
    "# Erdos-Renyi Random graph"
   ]
  },
  {
   "cell_type": "markdown",
   "metadata": {},
   "source": [
    "# Creating an Empty Un Directed Graph"
   ]
  },
  {
   "cell_type": "code",
   "execution_count": 15,
   "metadata": {
    "collapsed": true
   },
   "outputs": [],
   "source": [
    "G1 = snap.TUNGraph.New()"
   ]
  },
  {
   "cell_type": "markdown",
   "metadata": {},
   "source": [
    "# Adding Nodes"
   ]
  },
  {
   "cell_type": "code",
   "execution_count": 16,
   "metadata": {
    "collapsed": true
   },
   "outputs": [],
   "source": [
    "for i in range(1,101):\n",
    "    G1.AddNode(i)"
   ]
  },
  {
   "cell_type": "markdown",
   "metadata": {},
   "source": [
    "# Adding Edges Randomly"
   ]
  },
  {
   "cell_type": "code",
   "execution_count": 17,
   "metadata": {
    "collapsed": true
   },
   "outputs": [],
   "source": [
    "for i in range(1,101):\n",
    "    for j in range(1,101):\n",
    "        choice = random.randint(1,4)\n",
    "        if choice == 2:\n",
    "            G1.AddEdge(i, j)"
   ]
  },
  {
   "cell_type": "markdown",
   "metadata": {},
   "source": [
    "# Small-World Random Network"
   ]
  },
  {
   "cell_type": "markdown",
   "metadata": {},
   "source": [
    "# Creating an Empty Un Directed Graph"
   ]
  },
  {
   "cell_type": "code",
   "execution_count": 20,
   "metadata": {
    "collapsed": true
   },
   "outputs": [],
   "source": [
    "G2 = snap.TUNGraph.New()"
   ]
  },
  {
   "cell_type": "markdown",
   "metadata": {},
   "source": [
    "# Adding Nodes"
   ]
  },
  {
   "cell_type": "code",
   "execution_count": 21,
   "metadata": {
    "collapsed": false
   },
   "outputs": [],
   "source": [
    "for i in range(1,101):\n",
    "    G2.AddNode(i)"
   ]
  },
  {
   "cell_type": "markdown",
   "metadata": {},
   "source": [
    "# Adding Edges"
   ]
  },
  {
   "cell_type": "code",
   "execution_count": 22,
   "metadata": {
    "collapsed": false
   },
   "outputs": [],
   "source": [
    "for i in range(1,100):\n",
    "    G2.AddEdge(i, i+1)\n",
    "for i in range(1,99):    \n",
    "    G2.AddEdge(i, i+2)\n",
    "for i in range(1,99):    \n",
    "    G2.AddEdge(i, 100-(i+1))   \n",
    "for i in range(1,98):    \n",
    "    G2.AddEdge(i, 100-(i+2))\n",
    "x = 0\n",
    "while x < 100:\n",
    "    for i in range(1,101):\n",
    "        for j in range(1,101):\n",
    "            if x < 100:\n",
    "                choice = random.randint(1,4)\n",
    "                if G2.AddEdge(i,j) == -1 and choice == 2:\n",
    "                    G2.AddEdge(i,j)\n",
    "                    x+=1"
   ]
  },
  {
   "cell_type": "markdown",
   "metadata": {
    "collapsed": true
   },
   "source": [
    "# Real-World Collaboration Network"
   ]
  },
  {
   "cell_type": "markdown",
   "metadata": {},
   "source": [
    "# Reading File"
   ]
  },
  {
   "cell_type": "code",
   "execution_count": 2,
   "metadata": {
    "collapsed": true
   },
   "outputs": [],
   "source": [
    "G3 = snap.LoadEdgeList(snap.PNGraph, 'CA-HepTh.txt', 0, 1)"
   ]
  },
  {
   "cell_type": "markdown",
   "metadata": {},
   "source": [
    "# Removing Self Edges"
   ]
  },
  {
   "cell_type": "code",
   "execution_count": 3,
   "metadata": {
    "collapsed": false
   },
   "outputs": [],
   "source": [
    "snap.DelSelfEdges(G3)"
   ]
  },
  {
   "cell_type": "markdown",
   "metadata": {},
   "source": [
    "# Number of Nodes"
   ]
  },
  {
   "cell_type": "code",
   "execution_count": 4,
   "metadata": {
    "collapsed": false
   },
   "outputs": [
    {
     "name": "stdout",
     "output_type": "stream",
     "text": [
      "Number of Nodes are :  9877\n"
     ]
    }
   ],
   "source": [
    "print \"Number of Nodes are : \",G3.GetNodes()"
   ]
  },
  {
   "cell_type": "markdown",
   "metadata": {},
   "source": [
    "# Number of Edges"
   ]
  },
  {
   "cell_type": "code",
   "execution_count": 5,
   "metadata": {
    "collapsed": false
   },
   "outputs": [
    {
     "name": "stdout",
     "output_type": "stream",
     "text": [
      "Number of Edges are :  51946\n"
     ]
    }
   ],
   "source": [
    "print \"Number of Edges are : \",G3.GetEdges()"
   ]
  },
  {
   "cell_type": "markdown",
   "metadata": {},
   "source": [
    "# Random Graph using Erdos-Renyi Model"
   ]
  },
  {
   "cell_type": "markdown",
   "metadata": {},
   "source": [
    "# Creating an empty Un Directed Graph"
   ]
  },
  {
   "cell_type": "code",
   "execution_count": 4,
   "metadata": {
    "collapsed": true
   },
   "outputs": [],
   "source": [
    "G4 = snap.TUNGraph.New()"
   ]
  },
  {
   "cell_type": "markdown",
   "metadata": {},
   "source": [
    "# Adding Nodes"
   ]
  },
  {
   "cell_type": "code",
   "execution_count": 5,
   "metadata": {
    "collapsed": false
   },
   "outputs": [],
   "source": [
    "for i in range(1,9878):\n",
    "    G4.AddNode(i)"
   ]
  },
  {
   "cell_type": "markdown",
   "metadata": {},
   "source": [
    "# Adding Edges Randomly"
   ]
  },
  {
   "cell_type": "code",
   "execution_count": 6,
   "metadata": {
    "collapsed": false
   },
   "outputs": [],
   "source": [
    "for i in range(1,9878):\n",
    "    for j in range(1,9878):\n",
    "        choice = random.randint(1,4)\n",
    "        if choice == 2:\n",
    "            if G4.GetEdges() < 51946:\n",
    "                G4.AddEdge(i, j)\n",
    "            if G4.GetEdges() >= 51946:\n",
    "                break"
   ]
  },
  {
   "cell_type": "markdown",
   "metadata": {},
   "source": [
    "# Random Graph using Small-World Model"
   ]
  },
  {
   "cell_type": "markdown",
   "metadata": {},
   "source": [
    "# Creating an Empty Un Directed Graph"
   ]
  },
  {
   "cell_type": "code",
   "execution_count": 7,
   "metadata": {
    "collapsed": true
   },
   "outputs": [],
   "source": [
    "G5 = snap.TUNGraph.New()"
   ]
  },
  {
   "cell_type": "markdown",
   "metadata": {},
   "source": [
    "# Adding Nodes"
   ]
  },
  {
   "cell_type": "code",
   "execution_count": 8,
   "metadata": {
    "collapsed": true
   },
   "outputs": [],
   "source": [
    "for i in range(1,9878):\n",
    "    G5.AddNode(i)"
   ]
  },
  {
   "cell_type": "markdown",
   "metadata": {},
   "source": [
    "# Adding Edges"
   ]
  },
  {
   "cell_type": "code",
   "execution_count": 9,
   "metadata": {
    "collapsed": false
   },
   "outputs": [],
   "source": [
    "for i in range(1,9877):\n",
    "    G5.AddEdge(i, i+1)\n",
    "        \n",
    "for i in range(1,9876):\n",
    "    G5.AddEdge(i, i+2)\n",
    "        \n",
    "for i in range(1,9876):  \n",
    "    G5.AddEdge(i, 9877-(i+1))\n",
    "        \n",
    "for i in range(1,9875): \n",
    "    G5.AddEdge(i, 9877-(i+2))\n",
    "                \n",
    "for i in range(1,9876):\n",
    "    for j in range(1,9876):\n",
    "        if G5.GetEdges() < 51946:\n",
    "            G5.AddEdge(i,j)\n",
    "        if G5.GetEdges() >= 51946:\n",
    "            break"
   ]
  },
  {
   "cell_type": "markdown",
   "metadata": {},
   "source": [
    "# Degree Distribution Plot"
   ]
  },
  {
   "cell_type": "code",
   "execution_count": 84,
   "metadata": {
    "collapsed": false
   },
   "outputs": [],
   "source": [
    "g1 = [] \n",
    "for N in G3.Nodes():\n",
    "    if N.GetInDeg() > 0:\n",
    "        g1.append(N.GetInDeg())\n",
    "g2 = [] \n",
    "for N in G4.Nodes():\n",
    "    g2.append(N.GetInDeg())\n",
    "g3 = [] \n",
    "for N in G5.Nodes():\n",
    "    g3.append(N.GetInDeg())    "
   ]
  },
  {
   "cell_type": "code",
   "execution_count": 111,
   "metadata": {
    "collapsed": false
   },
   "outputs": [],
   "source": [
    "g1_n = np.zeros((len(np.unique(g1)),1))\n",
    "d_i = 0\n",
    "for D in np.unique(g1):\n",
    "    for N in G3.Nodes():\n",
    "        if N.GetInDeg() == D:\n",
    "            g1_n[d_i]+=1\n",
    "    d_i+=1        "
   ]
  },
  {
   "cell_type": "code",
   "execution_count": 115,
   "metadata": {
    "collapsed": true
   },
   "outputs": [],
   "source": [
    "g2_n = np.zeros((len(np.unique(g2)),1))\n",
    "d_i = 0\n",
    "for D in np.unique(g2):\n",
    "    for N in G4.Nodes():\n",
    "        if N.GetInDeg() == D:\n",
    "            g2_n[d_i]+=1\n",
    "    d_i+=1        "
   ]
  },
  {
   "cell_type": "code",
   "execution_count": 117,
   "metadata": {
    "collapsed": true
   },
   "outputs": [],
   "source": [
    "g3_n = np.zeros((len(np.unique(g3)),1))\n",
    "d_i = 0\n",
    "for D in np.unique(g3):\n",
    "    for N in G5.Nodes():\n",
    "        if N.GetInDeg() == D:\n",
    "            g3_n[d_i]+=1\n",
    "    d_i+=1        "
   ]
  },
  {
   "cell_type": "code",
   "execution_count": 138,
   "metadata": {
    "collapsed": false
   },
   "outputs": [
    {
     "name": "stderr",
     "output_type": "stream",
     "text": [
      "/home/talha/anaconda/lib/python2.7/site-packages/IPython/kernel/__main__.py:2: RuntimeWarning: divide by zero encountered in log\n",
      "  from IPython.kernel.zmq import kernelapp as app\n"
     ]
    },
    {
     "data": {
      "image/png": "[encoded data removed]",
      "text/plain": [
       "<matplotlib.figure.Figure at 0x7f031d2f30d0>"
      ]
     },
     "metadata": {},
     "output_type": "display_data"
    }
   ],
   "source": [
    "plt.plot(np.log(np.unique(g1)), np.log(g1_n),label='Real-World Collaboration')\n",
    "plt.plot(np.log(np.unique(g2)), np.log(g2_n),label='Erdos-Renyi')\n",
    "plt.plot(np.log(np.unique(g3)), np.log(g3_n),label='Small-World')\n",
    "plt.title('Degree Distribution')\n",
    "plt.xlabel('Node Degrees')\n",
    "plt.ylabel('Proportion of Nodes')\n",
    "plt.legend(loc='best')\n",
    "plt.show()"
   ]
  },
  {
   "cell_type": "markdown",
   "metadata": {
    "collapsed": true
   },
   "source": [
    "# Average Clustering Coefficient"
   ]
  },
  {
   "cell_type": "code",
   "execution_count": 46,
   "metadata": {
    "collapsed": false
   },
   "outputs": [
    {
     "name": "stdout",
     "output_type": "stream",
     "text": [
      "Average Clustering Coefficient of Real World Collaboration Network :  0.471439052967\n",
      "Average Clustering Coefficient of Erdos-Renyi Network :  0.406961060654\n",
      "Average Clustering Coefficient of Small-World Network :  0.682612086569\n"
     ]
    }
   ],
   "source": [
    "NodeVec = snap.TIntV()\n",
    "CC = []\n",
    "for N in G3.Nodes():\n",
    "    \n",
    "    E = 0\n",
    "    \n",
    "    K = snap.GetNodesAtHop(G3, N.GetId(), 1, NodeVec, True)\n",
    "    \n",
    "    for subset in itertools.combinations(NodeVec, 2):\n",
    "        if G3.IsEdge(subset[0],subset[1]):\n",
    "            E += 1\n",
    "            \n",
    "    K = K*(K-1)\n",
    "    \n",
    "    if K > 0:     \n",
    "        \n",
    "        CC.append(2*E/float(K))        \n",
    "    \n",
    "print \"Average Clustering Coefficient of Real World Collaboration Network : \", sum(CC)/float(G3.GetNodes())\n",
    "\n",
    "CC = []\n",
    "for N in G4.Nodes():\n",
    "    \n",
    "    E = 0\n",
    "    \n",
    "    K = snap.GetNodesAtHop(G4, N.GetId(), 1, NodeVec, True)\n",
    "    \n",
    "    for subset in itertools.combinations(NodeVec, 2):\n",
    "        if G4.IsEdge(subset[0],subset[1]):\n",
    "            E += 1\n",
    "            \n",
    "    K = K*(K-1)\n",
    "    \n",
    "    if K > 0:     \n",
    "        \n",
    "        CC.append(2*E/float(K))        \n",
    "    \n",
    "print \"Average Clustering Coefficient of Erdos-Renyi Network : \", sum(CC)/float(G4.GetNodes())\n",
    "\n",
    "CC = []\n",
    "for N in G5.Nodes():\n",
    "    \n",
    "    E = 0\n",
    "    \n",
    "    K = snap.GetNodesAtHop(G5, N.GetId(), 1, NodeVec, True)\n",
    "    \n",
    "    for subset in itertools.combinations(NodeVec, 2):\n",
    "        if G5.IsEdge(subset[0],subset[1]):\n",
    "            E += 1\n",
    "            \n",
    "    K = K*(K-1)\n",
    "    \n",
    "    if K > 0:     \n",
    "        \n",
    "        CC.append(2*E/float(K))        \n",
    "    \n",
    "print \"Average Clustering Coefficient of Small-World Network : \", sum(CC)/float(G5.GetNodes())"
   ]
  },
  {
   "cell_type": "markdown",
   "metadata": {
    "collapsed": true
   },
   "source": [
    "# Largest Connected Component"
   ]
  },
  {
   "cell_type": "code",
   "execution_count": 61,
   "metadata": {
    "collapsed": false
   },
   "outputs": [
    {
     "name": "stdout",
     "output_type": "stream",
     "text": [
      "Size largest connected component in Real-World Collaboration Nwtwork :  8638\n",
      "Size largest connected component in Erdos-Renyi Nwtwork :  9845\n",
      "Size largest connected component in Small-World Nwtwork :  9877\n",
      "Fraction of nodes in the largest connected component in Real-World Collaboration Nwtwork :  0.874557051736\n",
      "Fraction of nodes in the largest connected component in Erdos-Renyi Network :  0.996760149843\n",
      "Fraction of nodes in the largest connected component in Small-World Network :  1.0\n"
     ]
    }
   ],
   "source": [
    "Components = snap.TCnComV()\n",
    "snap.GetSccs(G3, Components)\n",
    "\n",
    "print \"Size largest connected component in Real-World Collaboration Nwtwork : \", Components[0].Len()\n",
    "\n",
    "snap.GetSccs(G4, Components)\n",
    "\n",
    "print \"Size largest connected component in Erdos-Renyi Nwtwork : \", Components[0].Len()\n",
    "\n",
    "snap.GetSccs(G5, Components)\n",
    "\n",
    "print \"Size largest connected component in Small-World Nwtwork : \", Components[0].Len()\n",
    "\n",
    "print \"Fraction of nodes in the largest connected component in Real-World Collaboration Nwtwork : \", snap.GetMxSccSz(G3)\n",
    "print \"Fraction of nodes in the largest connected component in Erdos-Renyi Network : \", snap.GetMxSccSz(G4)\n",
    "print \"Fraction of nodes in the largest connected component in Small-World Network : \", snap.GetMxSccSz(G5)"
   ]
  },
  {
   "cell_type": "markdown",
   "metadata": {},
   "source": [
    "# Diameter"
   ]
  },
  {
   "cell_type": "code",
   "execution_count": 65,
   "metadata": {
    "collapsed": false
   },
   "outputs": [
    {
     "name": "stdout",
     "output_type": "stream",
     "text": [
      "Diameter of Real-World Collaboration Nwtwork :  18\n",
      "Diameter of Erdos-Renyi Network :  4\n",
      "Diameter of Small-World Network :  3\n"
     ]
    }
   ],
   "source": [
    "print \"Diameter of Real-World Collaboration Nwtwork : \", snap.GetBfsFullDiam(G3, 1000, False)\n",
    "print \"Diameter of Erdos-Renyi Network : \", snap.GetBfsFullDiam(G4, 1000, False)\n",
    "print \"Diameter of Small-World Network : \", snap.GetBfsFullDiam(G5, 1000, False)"
   ]
  },
  {
   "cell_type": "code",
   "execution_count": null,
   "metadata": {
    "collapsed": true
   },
   "outputs": [],
   "source": []
  }
 ],
 "metadata": {
  "kernelspec": {
   "display_name": "Python 2",
   "language": "python",
   "name": "python2"
  },
  "language_info": {
   "codemirror_mode": {
    "name": "ipython",
    "version": 2
   },
   "file_extension": ".py",
   "mimetype": "text/x-python",
   "name": "python",
   "nbconvert_exporter": "python",
   "pygments_lexer": "ipython2",
   "version": "2.7.13"
  }
 },
 "nbformat": 4,
 "nbformat_minor": 0
}
